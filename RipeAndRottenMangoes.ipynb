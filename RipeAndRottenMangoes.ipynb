{
 "cells": [
  {
   "cell_type": "markdown",
   "id": "46068936-69fb-4888-84f1-8fc86f840c9e",
   "metadata": {
    "panel-layout": {
     "height": 51.13750076293945,
     "visible": true,
     "width": 100
    }
   },
   "source": [
    "# Inspección de los datos y tratamiento de los valores faltantes.\n",
    "\n",
    "El conjunto de datos Ripe y Rotten contiene datos sobre dos estados del mango. Este es un conjunto de datos multi-variables para determinar el estado de un mango a traves de una imagen.\n",
    "\n",
    "El conjunto de datos contiene dos estados en los que se puede encontrar un mango que son: Ripe (Maduro) y Rotten (Podrido). Cada estado cuenta con una cantidad de ejemplos registrados. Rotten: 1492 imágenes y Ripe: 497 imágenes para un total de 1.989 ejemplos en el conjunto de datos. \n"
   ]
  },
  {
   "cell_type": "code",
   "execution_count": 49,
   "id": "fbbff83e-b931-4023-8a24-c209f5409858",
   "metadata": {},
   "outputs": [],
   "source": [
    "import pandas as pd\n",
    "import seaborn as sns\n",
    "import matplotlib.pyplot as plt \n",
    "import numpy as np\n",
    "\n",
    "from sklearn.model_selection import train_test_split\n",
    "from sklearn.neural_network import MLPClassifier\n",
    "from sklearn.neural_network import MLPRegressor\n",
    "from sklearn import metrics\n",
    "from sklearn.metrics import classification_report\n",
    "from sklearn.metrics import accuracy_score\n",
    "from sklearn.metrics import mean_squared_error\n",
    "from sklearn.exceptions import ConvergenceWarning\n",
    "from sklearn.model_selection import GridSearchCV\n",
    "from sklearn import preprocessing\n",
    "\n",
    "from skimage.data import page\n",
    "from skimage.filters import threshold_otsu\n",
    "from skimage.color import rgb2gray\n",
    "\n",
    "import warnings\n",
    "import os\n",
    "from PIL import Image\n",
    "import skimage as ski\n",
    "\n",
    "from scipy.ndimage import binary_fill_holes\n",
    "from skimage.morphology import remove_small_objects"
   ]
  },
  {
   "cell_type": "markdown",
   "id": "042dd8a3-9e4c-4b1d-be69-54cbe263e139",
   "metadata": {},
   "source": [
    "Cargando el conjunto de imagenes"
   ]
  },
  {
   "cell_type": "code",
   "execution_count": 44,
   "id": "a7db62c4-a9e0-4647-87d8-ce2cf3cb0255",
   "metadata": {},
   "outputs": [
    {
     "name": "stdout",
     "output_type": "stream",
     "text": [
      "1975 Imágenes cargadas.\n"
     ]
    }
   ],
   "source": [
    "path_ripe = \"Ripe\"\n",
    "path_rotten = \"Rotten\"\n",
    "\n",
    "data_images = []\n",
    "\n",
    "def load_images_from_folder(folder_path, label):\n",
    "    for filename in os.listdir(folder_path):\n",
    "        if filename.endswith(\".jpg\") or filename.endswith(\".png\"):\n",
    "            img_path = os.path.join(folder_path, filename)\n",
    "            data_images.append({'image_path': img_path, 'label': label})\n",
    "\n",
    "\n",
    "load_images_from_folder(path_ripe, 'Ripe')\n",
    "load_images_from_folder(path_rotten, 'Rotten')\n",
    "\n",
    "print(f\"{len(data_images)} Imágenes cargadas.\")"
   ]
  },
  {
   "cell_type": "markdown",
   "id": "04f3d70c-3f71-4c91-919e-f24c61359dfa",
   "metadata": {},
   "source": [
    "A continuación se visualizarán el diagrama de clases y su distribución:"
   ]
  },
  {
   "cell_type": "code",
   "execution_count": 104,
   "id": "eb843b9c-cda2-486d-8d4a-2f683ca85988",
   "metadata": {},
   "outputs": [
    {
     "name": "stdout",
     "output_type": "stream",
     "text": [
      "      image_path label\n",
      "0     Ripe\\1.jpg  Ripe\n",
      "1    Ripe\\10.jpg  Ripe\n",
      "2  Ripe\\1000.jpg  Ripe\n",
      "3   Ripe\\102.jpg  Ripe\n",
      "4   Ripe\\103.jpg  Ripe\n"
     ]
    },
    {
     "data": {
      "image/png": "[encoded data removed]",
      "text/plain": [
       "<Figure size 1000x800 with 1 Axes>"
      ]
     },
     "metadata": {},
     "output_type": "display_data"
    }
   ],
   "source": [
    "dataframe_images = pd.DataFrame(data_images)\n",
    "print(dataframe_images.head())\n",
    "\n",
    "if not dataframe_images.empty:\n",
    "    plt.figure(figsize = (10,8))\n",
    "    sns.countplot(x = 'label', data = dataframe_images)\n",
    "    plt.title(\"Conteo de imagenes: Ripe vs Rotten\")\n",
    "    plt.xlabel(\"Estados\")\n",
    "    plt.ylabel(\"Cantidad de imagenes\")\n",
    "    plt.xticks(rotation = 45)\n",
    "    plt.show()\n",
    "else:\n",
    "    print(\"No hay imagenes para mostrar en el histograma.\")"
   ]
  },
  {
   "cell_type": "markdown",
   "id": "322a9ceb-ae29-44cd-8107-c25c1e6cd10e",
   "metadata": {},
   "source": [
    "A continuación se usan las funciones convert_toGrayImage, get_binaryMango, std_image, extract properties para extraer las propiedades del mango o variables predictoras del estado."
   ]
  },
  {
   "cell_type": "code",
   "execution_count": 106,
   "id": "0553f9a5-308b-40b8-b059-467927855eb5",
   "metadata": {},
   "outputs": [],
   "source": [
    "def convert_toGrayImage(filename):\n",
    "    img = ski.io.imread(filename)\n",
    "    img = ski.util.img_as_ubyte(img)\n",
    "    gray_image = rgb2gray(img)\n",
    "    return gray_image, img"
   ]
  },
  {
   "cell_type": "code",
   "execution_count": 107,
   "id": "5d3d56e1-e547-4e51-9a27-4e9de622cf55",
   "metadata": {},
   "outputs": [],
   "source": [
    "def get_binaryMango(gray_image, sigma=1.0, connectivity = 2):\n",
    "    blurred_image = ski.filters.gaussian(gray_image, sigma=sigma)\n",
    "    bin_image = blurred_image > threshold_otsu(blurred_image)\n",
    "    \n",
    "    filled_img = binary_fill_holes(bin_image)\n",
    "    labeled_image, count = ski.measure.label(filled_img, connectivity=connectivity, return_num=True)\n",
    "\n",
    "    object_features = ski.measure.regionprops(labeled_image)\n",
    "    object_areas = [objf[\"area\"] for objf in object_features]\n",
    "    max_size = max(object_areas)\n",
    "\n",
    "    mango_mask = remove_small_objects(labeled_image, min_size=max_size-1)\n",
    "    #plt.imshow(mango_mask)\n",
    "    #plt.show() \n",
    "\n",
    "    mango_mask = mango_mask < 1\n",
    "    return mango_mask"
   ]
  },
  {
   "cell_type": "code",
   "execution_count": 65,
   "id": "197ecc32-edf0-4013-9e49-c0886133afc1",
   "metadata": {},
   "outputs": [],
   "source": [
    "def std_image(gray_img, mango_mask):\n",
    "    mango_mask = ski.util.invert(mango_mask)\n",
    "    idx_list = np.where(mango_mask == 1)\n",
    "    mangoPixel_values = gray_img[idx_list]\n",
    "    stdev = statistics.stdev(mangoPixel_values)\n",
    "    return stdev"
   ]
  },
  {
   "cell_type": "code",
   "execution_count": 116,
   "id": "750b018c-4874-403c-9a3d-d7934a06e8cc",
   "metadata": {},
   "outputs": [],
   "source": [
    "import statistics\n",
    "    \n",
    "def extract_properties(mango_img, gray_img, mango_mask):\n",
    "\n",
    "    labeled_mango, count = ski.measure.label(mango_mask, connectivity=2, return_num=True)\n",
    "    object_features = ski.measure.regionprops(labeled_mango)\n",
    "\n",
    "    var_color_props = ['intensity_mean']\n",
    "    color_props = ski.measure.regionprops_table(labeled_mango, mango_img, properties=var_color_props)\n",
    "\n",
    "    var_gris_props = ['area', 'intensity_max', 'intensity_min', 'intensity_mean']\n",
    "    gris_props = ski.measure.regionprops_table(labeled_mango, gray_img, properties=var_gris_props)\n",
    "    \n",
    "    grayImg_stdev = std_image(gray_img, mango_mask)\n",
    "    df_image = pd.DataFrame(gris_props)\n",
    "    \n",
    "    df_image.rename(columns={'intensity_max': 'max_gray_value', 'intensity_min': 'min_gray_value', 'intensity_mean': 'mean_gray_value'}, inplace=True)\n",
    "    \n",
    "    df_image['mean_value_R'] = color_props['intensity_mean-0'] \n",
    "    df_image['mean_value_G'] = color_props['intensity_mean-1'] \n",
    "    df_image['mean_value_B'] = color_props['intensity_mean-2']\n",
    "    df_image['std'] = grayImg_stdev \n",
    "    \n",
    "    print(df_image.head())"
   ]
  },
  {
   "cell_type": "code",
   "execution_count": 110,
   "id": "52732903-ac06-439b-8eda-8bd3cefde98c",
   "metadata": {},
   "outputs": [],
   "source": [
    "def intensity_table(grayValues):\n",
    "    table = {}\n",
    "    for ival in range(256):\n",
    "        table['val_'+ str(ival)] = [np.count_nonzero(grayValues == ival)]\n",
    "       \n",
    "    df_table = pd.DataFrame.from_dict(table, orient='columns')\n",
    "    return df_table"
   ]
  },
  {
   "cell_type": "code",
   "execution_count": 112,
   "id": "ea3a2366-bfac-4983-9e66-4746db656e34",
   "metadata": {},
   "outputs": [],
   "source": [
    "def hist2features(grayImg, mangoMask):\n",
    "    #color = ski.util.img_as_ubyte(colorImg)\n",
    "    gray = ski.util.img_as_ubyte(grayImg)\n",
    "    mango_mask = ski.util.invert(mangoMask)\n",
    "\n",
    "    masked_gray = gray * mango_mask\n",
    "    plt.imshow(masked_gray, cmap = 'gray')\n",
    "    plt.show()\n",
    "    df_intensities = intensity_table(masked_gray)\n",
    "    print(df_intensities)\n",
    "    return df_intensities"
   ]
  },
  {
   "cell_type": "markdown",
   "id": "60a6355f-41fe-4475-a265-1177b979cc93",
   "metadata": {},
   "source": [
    "A continuación, se crea una lista que va a almacenar las caracteristicas de las imagenes y se crea un bucle que procesa todas las imagenes del dataframe que contiene en este punto sólo las imagenes cargadas(dataframe_images). Luego, esta lista se convierte en dataframe para que puedan ser visualizadas las caracteristicas extraídas."
   ]
  },
  {
   "cell_type": "code",
   "execution_count": 118,
   "id": "a9eb7f85-3789-4290-8723-cb71b0853e6a",
   "metadata": {},
   "outputs": [
    {
     "data": {
      "image/png": "[encoded data removed]",
      "text/plain": [
       "<Figure size 640x480 with 1 Axes>"
      ]
     },
     "metadata": {},
     "output_type": "display_data"
    },
    {
     "name": "stdout",
     "output_type": "stream",
     "text": [
      "   val_0  val_1  val_2  val_3  val_4  val_5  val_6  val_7  val_8  val_9  ...  \\\n",
      "0  46869      0      0      0      0      0      0      0      0      0  ...   \n",
      "\n",
      "   val_246  val_247  val_248  val_249  val_250  val_251  val_252  val_253  \\\n",
      "0        0        0        0        0        0        0        0        0   \n",
      "\n",
      "   val_254  val_255  \n",
      "0        0        0  \n",
      "\n",
      "[1 rows x 256 columns]\n",
      "      area  max_gray_value  min_gray_value  mean_gray_value  mean_value_R  \\\n",
      "0  46869.0             1.0        0.096415         0.249934     64.037808   \n",
      "\n",
      "   mean_value_G  mean_value_B       std  \n",
      "0     63.635388       63.8039  0.063845  \n"
     ]
    },
    {
     "ename": "TypeError",
     "evalue": "'NoneType' object does not support item assignment",
     "output_type": "error",
     "traceback": [
      "\u001b[1;31m---------------------------------------------------------------------------\u001b[0m",
      "\u001b[1;31mTypeError\u001b[0m                                 Traceback (most recent call last)",
      "Cell \u001b[1;32mIn[118], line 15\u001b[0m\n\u001b[0;32m     11\u001b[0m     hist2features(gray_image, mango_mask)\n\u001b[0;32m     13\u001b[0m     mango_features \u001b[38;5;241m=\u001b[39m extract_properties(mango_img, gray_image, mango_mask)\n\u001b[1;32m---> 15\u001b[0m     mango_features[\u001b[38;5;124m'\u001b[39m\u001b[38;5;124mlabel\u001b[39m\u001b[38;5;124m'\u001b[39m] \u001b[38;5;241m=\u001b[39m label\n\u001b[0;32m     17\u001b[0m     data_images_features\u001b[38;5;241m.\u001b[39mappend(mango_features)\n\u001b[0;32m     19\u001b[0m df_mango_features \u001b[38;5;241m=\u001b[39m pd\u001b[38;5;241m.\u001b[39mconcat(data_images_features, ignore_index\u001b[38;5;241m=\u001b[39m\u001b[38;5;28;01mTrue\u001b[39;00m)\n",
      "\u001b[1;31mTypeError\u001b[0m: 'NoneType' object does not support item assignment"
     ]
    }
   ],
   "source": [
    "data_images_features = []\n",
    "\n",
    "for _, row in dataframe_images.iterrows():\n",
    "    img_path = row['image_path']\n",
    "    label = row['label']\n",
    "    \n",
    "    gray_image, mango_img = convert_toGrayImage(img_path)\n",
    "    \n",
    "    mango_mask = get_binaryMango(gray_image)\n",
    "\n",
    "    hist2features(gray_image, mango_mask)\n",
    "    \n",
    "    mango_features = extract_properties(mango_img, gray_image, mango_mask)\n",
    "    \n",
    "    mango_features['label'] = label\n",
    "\n",
    "    data_images_features.append(mango_features)\n",
    "\n",
    "df_mango_features = pd.concat(data_images_features, ignore_index=True)\n",
    "\n",
    "print(df_mango_features.head())\n"
   ]
  },
  {
   "cell_type": "code",
   "execution_count": null,
   "id": "eb63bbd1-781d-4b57-a41e-54bce0b8bc51",
   "metadata": {},
   "outputs": [],
   "source": []
  }
 ],
 "metadata": {
  "kernelspec": {
   "display_name": "Python 3 (ipykernel)",
   "language": "python",
   "name": "python3"
  },
  "language_info": {
   "codemirror_mode": {
    "name": "ipython",
    "version": 3
   },
   "file_extension": ".py",
   "mimetype": "text/x-python",
   "name": "python",
   "nbconvert_exporter": "python",
   "pygments_lexer": "ipython3",
   "version": "3.12.4"
  },
  "panel-cell-order": [
   "803dc908-217f-4400-b870-82f8157adb08"
  ]
 },
 "nbformat": 4,
 "nbformat_minor": 5
}
