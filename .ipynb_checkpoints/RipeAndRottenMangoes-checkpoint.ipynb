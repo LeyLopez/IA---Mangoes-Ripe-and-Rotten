{
 "cells": [
  {
   "cell_type": "markdown",
   "id": "46068936-69fb-4888-84f1-8fc86f840c9e",
   "metadata": {
    "panel-layout": {
     "height": 51.13750076293945,
     "visible": true,
     "width": 100
    }
   },
   "source": [
    "# Inspección de los datos y tratamiento de los valores faltantes.\n",
    "\n",
    "El conjunto de datos Ripe y Rotten contiene datos sobre dos estados del mango. Este es un conjunto de datos multi-variables para determinar el estado de un mango a traves de una imagen.\n",
    "\n",
    "El conjunto de datos contiene dos estados en los que se puede encontrar un mango que son: Ripe (Maduro) y Rotten (Podrido). Cada estado cuenta con una cantidad de ejemplos registrados. Rotten: 1492 imágenes y Ripe: 497 imágenes para un total de 1.989 ejemplos en el conjunto de datos. \n"
   ]
  },
  {
   "cell_type": "code",
   "execution_count": 49,
   "id": "fbbff83e-b931-4023-8a24-c209f5409858",
   "metadata": {},
   "outputs": [],
   "source": [
    "import pandas as pd\n",
    "import seaborn as sns\n",
    "import matplotlib.pyplot as plt \n",
    "import numpy as np\n",
    "\n",
    "from sklearn.model_selection import train_test_split\n",
    "from sklearn.neural_network import MLPClassifier\n",
    "from sklearn.neural_network import MLPRegressor\n",
    "from sklearn import metrics\n",
    "from sklearn.metrics import classification_report\n",
    "from sklearn.metrics import accuracy_score\n",
    "from sklearn.metrics import mean_squared_error\n",
    "from sklearn.exceptions import ConvergenceWarning\n",
    "from sklearn.model_selection import GridSearchCV\n",
    "from sklearn import preprocessing\n",
    "\n",
    "from skimage.data import page\n",
    "from skimage.filters import threshold_otsu\n",
    "from skimage.color import rgb2gray\n",
    "\n",
    "import warnings\n",
    "import os\n",
    "from PIL import Image\n",
    "import skimage as ski\n",
    "\n",
    "from scipy.ndimage import binary_fill_holes\n",
    "from skimage.morphology import remove_small_objects"
   ]
  },
  {
   "cell_type": "markdown",
   "id": "042dd8a3-9e4c-4b1d-be69-54cbe263e139",
   "metadata": {},
   "source": [
    "Cargando el conjunto de imagenes"
   ]
  },
  {
   "cell_type": "code",
   "execution_count": 44,
   "id": "a7db62c4-a9e0-4647-87d8-ce2cf3cb0255",
   "metadata": {},
   "outputs": [
    {
     "name": "stdout",
     "output_type": "stream",
     "text": [
      "1975 Imágenes cargadas.\n"
     ]
    }
   ],
   "source": [
    "path_ripe = \"Ripe\"\n",
    "path_rotten = \"Rotten\"\n",
    "\n",
    "data_images = []\n",
    "\n",
    "def load_images_from_folder(folder_path, label):\n",
    "    for filename in os.listdir(folder_path):\n",
    "        if filename.endswith(\".jpg\") or filename.endswith(\".png\"):\n",
    "            img_path = os.path.join(folder_path, filename)\n",
    "            data_images.append({'image_path': img_path, 'label': label})\n",
    "\n",
    "\n",
    "load_images_from_folder(path_ripe, 'Ripe')\n",
    "load_images_from_folder(path_rotten, 'Rotten')\n",
    "\n",
    "print(f\"{len(data_images)} Imágenes cargadas.\")"
   ]
  },
  {
   "cell_type": "markdown",
   "id": "04f3d70c-3f71-4c91-919e-f24c61359dfa",
   "metadata": {},
   "source": [
    "A continuación se visualizarán el diagrama de clases y su distribución:"
   ]
  },
  {
   "cell_type": "code",
   "execution_count": 104,
   "id": "eb843b9c-cda2-486d-8d4a-2f683ca85988",
   "metadata": {},
   "outputs": [
    {
     "name": "stdout",
     "output_type": "stream",
     "text": [
      "      image_path label\n",
      "0     Ripe\\1.jpg  Ripe\n",
      "1    Ripe\\10.jpg  Ripe\n",
      "2  Ripe\\1000.jpg  Ripe\n",
      "3   Ripe\\102.jpg  Ripe\n",
      "4   Ripe\\103.jpg  Ripe\n"
     ]
    },
    {
     "data": {
      "image/png": "[encoded data removed]",
      "text/plain": [
       "<Figure size 1000x800 with 1 Axes>"
      ]
     },
     "metadata": {},
     "output_type": "display_data"
    }
   ],
   "source": [
    "dataframe_images = pd.DataFrame(data_images)\n",
    "print(dataframe_images.head())\n",
    "\n",
    "if not dataframe_images.empty:\n",
    "    plt.figure(figsize = (10,8))\n",
    "    sns.countplot(x = 'label', data = dataframe_images)\n",
    "    plt.title(\"Conteo de imagenes: Ripe vs Rotten\")\n",
    "    plt.xlabel(\"Estados\")\n",
    "    plt.ylabel(\"Cantidad de imagenes\")\n",
    "    plt.xticks(rotation = 45)\n",
    "    plt.show()\n",
    "else:\n",
    "    print(\"No hay imagenes para mostrar en el histograma.\")"
   ]
  },
  {
   "cell_type": "markdown",
   "id": "322a9ceb-ae29-44cd-8107-c25c1e6cd10e",
   "metadata": {},
   "source": [
    "A continuación se usan las funciones convert_toGrayImage, get_binaryMango, std_image, extract properties para extraer las propiedades del mango o variables predictoras del estado."
   ]
  },
  {
   "cell_type": "code",
   "execution_count": 106,
   "id": "0553f9a5-308b-40b8-b059-467927855eb5",
   "metadata": {},
   "outputs": [],
   "source": [
    "def convert_toGrayImage(filename):\n",
    "    img = ski.io.imread(filename)\n",
    "    img = ski.util.img_as_ubyte(img)\n",
    "    gray_image = rgb2gray(img)\n",
    "    return gray_image, img\n",
    "    "
   ]
  },
  {
   "cell_type": "code",
   "execution_count": 132,
   "id": "5d3d56e1-e547-4e51-9a27-4e9de622cf55",
   "metadata": {},
   "outputs": [],
   "source": [
    "def get_binaryMango(gray_image, sigma=1.0, connectivity=2):\n",
    "    blurred_image = ski.filters.gaussian(gray_image, sigma=sigma)\n",
    "    bin_image = blurred_image > threshold_otsu(blurred_image)\n",
    "    \n",
    "    filled_img = binary_fill_holes(bin_image)\n",
    "    labeled_image, count = ski.measure.label(filled_img, connectivity=connectivity, return_num=True)\n",
    "\n",
    "    object_features = ski.measure.regionprops(labeled_image)\n",
    "    object_areas = [objf[\"area\"] for objf in object_features]\n",
    "    max_size = max(object_areas)\n",
    "\n",
    "    # Convertir a máscara binaria antes de usar remove_small_objects\n",
    "    binary_mask = labeled_image > 0\n",
    "    mango_mask = remove_small_objects(binary_mask, min_size=max_size-1)\n",
    "    \n",
    "    return mango_mask  # Ya no necesitas invertir la máscara aquí"
   ]
  },
  {
   "cell_type": "code",
   "execution_count": 134,
   "id": "197ecc32-edf0-4013-9e49-c0886133afc1",
   "metadata": {},
   "outputs": [],
   "source": [
    "def std_image(gray_img, mango_mask):\n",
    "    mango_mask = ski.util.invert(mango_mask)\n",
    "    idx_list = np.where(mango_mask == 1)\n",
    "    mangoPixel_values = gray_img[idx_list]\n",
    "    stdev = statistics.stdev(mangoPixel_values)\n",
    "    return stdev\n",
    "    "
   ]
  },
  {
   "cell_type": "code",
   "execution_count": 145,
   "id": "750b018c-4874-403c-9a3d-d7934a06e8cc",
   "metadata": {},
   "outputs": [],
   "source": [
    "import statistics\n",
    "    \n",
    "def extract_properties(mango_img, gray_img, mango_mask):\n",
    "    # Asegurarse de que la máscara sea binaria\n",
    "    binary_mask = mango_mask > 0\n",
    "    labeled_mango, count = ski.measure.label(binary_mask, connectivity=2, return_num=True)\n",
    "    \n",
    "    if count == 0:\n",
    "        print(\"No se encontraron objetos en la imagen\")\n",
    "        return None\n",
    "\n",
    "    try:\n",
    "        # Propiedades de color\n",
    "        var_color_props = ['intensity_mean']\n",
    "        color_props = ski.measure.regionprops_table(labeled_mango, mango_img, properties=var_color_props)\n",
    "\n",
    "        # Propiedades en escala de grises\n",
    "        var_gris_props = ['area', 'intensity_max', 'intensity_min', 'intensity_mean']\n",
    "        gris_props = ski.measure.regionprops_table(labeled_mango, gray_img, properties=var_gris_props)\n",
    "        \n",
    "        # Calcular la desviación estándar\n",
    "        grayImg_stdev = std_image(gray_img, mango_mask)\n",
    "        \n",
    "        # Crear DataFrame con propiedades de región\n",
    "        df_region = pd.DataFrame(gris_props)\n",
    "        \n",
    "        if df_region.empty:\n",
    "            print(\"No se pudieron extraer propiedades de la imagen\")\n",
    "            return None\n",
    "        \n",
    "        df_region.rename(columns={\n",
    "            'intensity_max': 'max_gray_value',\n",
    "            'intensity_min': 'min_gray_value',\n",
    "            'intensity_mean': 'mean_gray_value'\n",
    "        }, inplace=True)\n",
    "        \n",
    "        # Agregar propiedades de color\n",
    "        df_region['mean_value_R'] = color_props.get('intensity_mean-0', [None])[0]\n",
    "        df_region['mean_value_G'] = color_props.get('intensity_mean-1', [None])[0]\n",
    "        df_region['mean_value_B'] = color_props.get('intensity_mean-2', [None])[0]\n",
    "        df_region['std'] = grayImg_stdev\n",
    "        \n",
    "        # Calcular el histograma de intensidades\n",
    "        df_intensities = hist2features(gray_img, mango_mask)\n",
    "        \n",
    "        # Combinar todas las características\n",
    "        df_features = pd.concat([df_region, df_intensities], axis=1)\n",
    "        \n",
    "        return df_features\n",
    "\n",
    "    except Exception as e:\n",
    "        print(f\"Error al extraer propiedades: {str(e)}\")\n",
    "        return None"
   ]
  },
  {
   "cell_type": "code",
   "execution_count": 138,
   "id": "52732903-ac06-439b-8eda-8bd3cefde98c",
   "metadata": {},
   "outputs": [],
   "source": [
    "def intensity_table(grayValues):\n",
    "    table = {}\n",
    "    for ival in range(256):\n",
    "        table['val_'+ str(ival)] = [np.count_nonzero(grayValues == ival)]\n",
    "       \n",
    "    df_table = pd.DataFrame.from_dict(table, orient='columns')\n",
    "    return df_table"
   ]
  },
  {
   "cell_type": "code",
   "execution_count": 140,
   "id": "ea3a2366-bfac-4983-9e66-4746db656e34",
   "metadata": {},
   "outputs": [],
   "source": [
    "def hist2features(grayImg, mangoMask):\n",
    "    #color = ski.util.img_as_ubyte(colorImg)\n",
    "    gray = ski.util.img_as_ubyte(grayImg)\n",
    "    mango_mask = ski.util.invert(mangoMask)\n",
    "\n",
    "    masked_gray = gray * mango_mask\n",
    "    plt.imshow(masked_gray, cmap = 'gray')\n",
    "    plt.show()\n",
    "    df_intensities = intensity_table(masked_gray)\n",
    "    print(df_intensities)\n",
    "    return df_intensities"
   ]
  },
  {
   "cell_type": "markdown",
   "id": "60a6355f-41fe-4475-a265-1177b979cc93",
   "metadata": {},
   "source": [
    "A continuación, se crea una lista que va a almacenar las caracteristicas de las imagenes y se crea un bucle que procesa todas las imagenes del dataframe que contiene en este punto sólo las imagenes cargadas(dataframe_images). Luego, esta lista se convierte en dataframe para que puedan ser visualizadas las caracteristicas extraídas."
   ]
  },
  {
   "cell_type": "code",
   "execution_count": null,
   "id": "a9eb7f85-3789-4290-8723-cb71b0853e6a",
   "metadata": {},
   "outputs": [],
   "source": [
    "data_images_features = []\n",
    "\n",
    "for _, row in dataframe_images.iterrows():\n",
    "    try:\n",
    "        img_path = row['image_path']\n",
    "        label = row['label']\n",
    "        \n",
    "        print(f\"\\nProcesando imagen: {img_path}\")\n",
    "        \n",
    "        gray_image, mango_img = convert_toGrayImage(img_path)\n",
    "        mango_mask = get_binaryMango(gray_image)\n",
    "        \n",
    "        if mango_mask is None:\n",
    "            print(f\"No se pudo procesar la máscara para {img_path}\")\n",
    "            continue\n",
    "        \n",
    "        mango_features = extract_properties(mango_img, gray_image, mango_mask)\n",
    "        \n",
    "        if mango_features is not None:\n",
    "            mango_features['label'] = label\n",
    "            data_images_features.append(mango_features)\n",
    "            \n",
    "            print(\"\\nCaracterísticas extraídas:\")\n",
    "            print(\"\\nPropiedades de la región:\")\n",
    "            print(mango_features[['area', 'max_gray_value', 'min_gray_value', 'mean_gray_value', 'mean_value_R', 'mean_value_G', 'mean_value_B', 'std']])\n",
    "            \n",
    "            print(\"\\nHistograma de intensidades (primeros y últimos 5 valores):\")\n",
    "            intensity_cols = [col for col in mango_features.columns if col.startswith('val_')]\n",
    "            print(mango_features[intensity_cols].iloc[:, :5].join(mango_features[intensity_cols].iloc[:, -5:]))\n",
    "        else:\n",
    "            print(f\"No se pudieron extraer características para {img_path}\")\n",
    "            \n",
    "    except Exception as e:\n",
    "        print(f\"Error procesando {img_path}: {str(e)}\")\n",
    "        continue\n",
    "\n",
    "if data_images_features:\n",
    "    df_mango_features = pd.concat(data_images_features, ignore_index=True)\n",
    "    print(\"\\nResumen de todas las imágenes procesadas:\")\n",
    "    print(df_mango_features.describe())\n",
    "else:\n",
    "    print(\"No se pudieron procesar ninguna de las imágenes\")"
   ]
  },
  {
   "cell_type": "code",
   "execution_count": null,
   "id": "eb63bbd1-781d-4b57-a41e-54bce0b8bc51",
   "metadata": {},
   "outputs": [],
   "source": []
  }
 ],
 "metadata": {
  "kernelspec": {
   "display_name": "Python 3 (ipykernel)",
   "language": "python",
   "name": "python3"
  },
  "language_info": {
   "codemirror_mode": {
    "name": "ipython",
    "version": 3
   },
   "file_extension": ".py",
   "mimetype": "text/x-python",
   "name": "python",
   "nbconvert_exporter": "python",
   "pygments_lexer": "ipython3",
   "version": "3.12.4"
  },
  "panel-cell-order": [
   "803dc908-217f-4400-b870-82f8157adb08"
  ]
 },
 "nbformat": 4,
 "nbformat_minor": 5
}
